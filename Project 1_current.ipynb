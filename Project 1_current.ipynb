{
 "cells": [
  {
   "cell_type": "code",
   "execution_count": 165,
   "id": "97d4d2c5-2ff9-4b45-9960-0ac4a939a525",
   "metadata": {},
   "outputs": [],
   "source": [
    "#You can find my project side here: https://leeeeeeapgn.github.io/Project1_Lede/\n",
    "#I am going to look at a dataset from University of Rochester about Chinese leaders visiting other countries and look for patterns.\n",
    "#I ended up doing a few analysis but not using all of them for the story. "
   ]
  },
  {
   "cell_type": "code",
   "execution_count": 213,
   "id": "049fd277-5dc3-4570-a5c5-f99a3fa23986",
   "metadata": {},
   "outputs": [
    {
     "name": "stdout",
     "output_type": "stream",
     "text": [
      "2.3.0\n"
     ]
    }
   ],
   "source": [
    "import pandas as pd\n",
    "print(pd.__version__)\n"
   ]
  },
  {
   "cell_type": "code",
   "execution_count": 214,
   "id": "1ae53c09-d2ab-4035-a21c-e126ea13b249",
   "metadata": {},
   "outputs": [
    {
     "name": "stdout",
     "output_type": "stream",
     "text": [
      "              country  year ccode             start               end  \\\n",
      "0          Kazakhstan  1998   KAZ       July 3 1998       July 4 1998   \n",
      "1  Russian Federation  1998   RUS  November 22 1998  November 25 1998   \n",
      "2               Japan  1998   JPN  November 25 1998  November 30 1998   \n",
      "3               Italy  1999   ITA     March 20 1999     March 25 1999   \n",
      "4         Switzerland  1999   CHE     March 25 1999     March 27 1999   \n",
      "\n",
      "   group_visit  group_order  group_id       leader  leader_id     office  \\\n",
      "0          0.0          1.0       1.0  Jiang Zemin        1.0  President   \n",
      "1          1.0          1.0       2.0  Jiang Zemin        1.0  President   \n",
      "2          1.0          2.0       2.0  Jiang Zemin        1.0  President   \n",
      "3          1.0          1.0       3.0  Jiang Zemin        1.0  President   \n",
      "4          1.0          2.0       3.0  Jiang Zemin        1.0  President   \n",
      "\n",
      "                                                 url   last_accessed  \\\n",
      "0  http://www.peopledaily.com.cn/item/ldhd/Jiangz...  January 9 2022   \n",
      "1  https://www.fmprc.gov.cn/chn/pds/ziliao/1179/t...  January 9 2022   \n",
      "2  http://www.peopledaily.com.cn/item/ldhd/Jiangz...  January 9 2022   \n",
      "3  http://www.peopledaily.com.cn/item/ldhd/Jiangz...  January 9 2022   \n",
      "4  http://www.peopledaily.com.cn/item/ldhd/Jiangz...  January 9 2022   \n",
      "\n",
      "                             meeting note  \n",
      "0  Shanghai Cooperation Organization       \n",
      "1                                          \n",
      "2                                          \n",
      "3                                          \n",
      "4                                          \n"
     ]
    }
   ],
   "source": [
    "import pandas as pd\n",
    "\n",
    "df = pd.read_stata(\"china_visits.v1.dta\", convert_categoricals=False)\n",
    "\n",
    "print(df.head())"
   ]
  },
  {
   "cell_type": "code",
   "execution_count": 215,
   "id": "c14e5ad5-1d2b-49f8-a1c0-036ce7260aec",
   "metadata": {},
   "outputs": [],
   "source": [
    "#I am importing the csv file. I was unable to convert the original data and needed help from another user. \n",
    "#The person did the exact same thing, so unclear what went wrong. I imported his csv."
   ]
  },
  {
   "cell_type": "code",
   "execution_count": 216,
   "id": "80ff5129-a954-4382-bb22-0761e7b5d449",
   "metadata": {},
   "outputs": [
    {
     "ename": "FileNotFoundError",
     "evalue": "[Errno 2] No such file or directory: 'china_visits.v1.csv'",
     "output_type": "error",
     "traceback": [
      "\u001b[31m---------------------------------------------------------------------------\u001b[39m",
      "\u001b[31mFileNotFoundError\u001b[39m                         Traceback (most recent call last)",
      "\u001b[36mCell\u001b[39m\u001b[36m \u001b[39m\u001b[32mIn[216]\u001b[39m\u001b[32m, line 3\u001b[39m\n\u001b[32m      1\u001b[39m \u001b[38;5;28;01mimport\u001b[39;00m\u001b[38;5;250m \u001b[39m\u001b[34;01mpandas\u001b[39;00m\u001b[38;5;250m \u001b[39m\u001b[38;5;28;01mas\u001b[39;00m\u001b[38;5;250m \u001b[39m\u001b[34;01mpd\u001b[39;00m\n\u001b[32m----> \u001b[39m\u001b[32m3\u001b[39m df = \u001b[43mpd\u001b[49m\u001b[43m.\u001b[49m\u001b[43mread_csv\u001b[49m\u001b[43m(\u001b[49m\u001b[33;43m\"\u001b[39;49m\u001b[33;43mchina_visits.v1.csv\u001b[39;49m\u001b[33;43m\"\u001b[39;49m\u001b[43m)\u001b[49m\n\u001b[32m      5\u001b[39m \u001b[38;5;28mprint\u001b[39m(df.head())\n",
      "\u001b[36mFile \u001b[39m\u001b[32m~/.pyenv/versions/3.11.8/lib/python3.11/site-packages/pandas/io/parsers/readers.py:1026\u001b[39m, in \u001b[36mread_csv\u001b[39m\u001b[34m(filepath_or_buffer, sep, delimiter, header, names, index_col, usecols, dtype, engine, converters, true_values, false_values, skipinitialspace, skiprows, skipfooter, nrows, na_values, keep_default_na, na_filter, verbose, skip_blank_lines, parse_dates, infer_datetime_format, keep_date_col, date_parser, date_format, dayfirst, cache_dates, iterator, chunksize, compression, thousands, decimal, lineterminator, quotechar, quoting, doublequote, escapechar, comment, encoding, encoding_errors, dialect, on_bad_lines, delim_whitespace, low_memory, memory_map, float_precision, storage_options, dtype_backend)\u001b[39m\n\u001b[32m   1013\u001b[39m kwds_defaults = _refine_defaults_read(\n\u001b[32m   1014\u001b[39m     dialect,\n\u001b[32m   1015\u001b[39m     delimiter,\n\u001b[32m   (...)\u001b[39m\u001b[32m   1022\u001b[39m     dtype_backend=dtype_backend,\n\u001b[32m   1023\u001b[39m )\n\u001b[32m   1024\u001b[39m kwds.update(kwds_defaults)\n\u001b[32m-> \u001b[39m\u001b[32m1026\u001b[39m \u001b[38;5;28;01mreturn\u001b[39;00m \u001b[43m_read\u001b[49m\u001b[43m(\u001b[49m\u001b[43mfilepath_or_buffer\u001b[49m\u001b[43m,\u001b[49m\u001b[43m \u001b[49m\u001b[43mkwds\u001b[49m\u001b[43m)\u001b[49m\n",
      "\u001b[36mFile \u001b[39m\u001b[32m~/.pyenv/versions/3.11.8/lib/python3.11/site-packages/pandas/io/parsers/readers.py:620\u001b[39m, in \u001b[36m_read\u001b[39m\u001b[34m(filepath_or_buffer, kwds)\u001b[39m\n\u001b[32m    617\u001b[39m _validate_names(kwds.get(\u001b[33m\"\u001b[39m\u001b[33mnames\u001b[39m\u001b[33m\"\u001b[39m, \u001b[38;5;28;01mNone\u001b[39;00m))\n\u001b[32m    619\u001b[39m \u001b[38;5;66;03m# Create the parser.\u001b[39;00m\n\u001b[32m--> \u001b[39m\u001b[32m620\u001b[39m parser = \u001b[43mTextFileReader\u001b[49m\u001b[43m(\u001b[49m\u001b[43mfilepath_or_buffer\u001b[49m\u001b[43m,\u001b[49m\u001b[43m \u001b[49m\u001b[43m*\u001b[49m\u001b[43m*\u001b[49m\u001b[43mkwds\u001b[49m\u001b[43m)\u001b[49m\n\u001b[32m    622\u001b[39m \u001b[38;5;28;01mif\u001b[39;00m chunksize \u001b[38;5;129;01mor\u001b[39;00m iterator:\n\u001b[32m    623\u001b[39m     \u001b[38;5;28;01mreturn\u001b[39;00m parser\n",
      "\u001b[36mFile \u001b[39m\u001b[32m~/.pyenv/versions/3.11.8/lib/python3.11/site-packages/pandas/io/parsers/readers.py:1620\u001b[39m, in \u001b[36mTextFileReader.__init__\u001b[39m\u001b[34m(self, f, engine, **kwds)\u001b[39m\n\u001b[32m   1617\u001b[39m     \u001b[38;5;28mself\u001b[39m.options[\u001b[33m\"\u001b[39m\u001b[33mhas_index_names\u001b[39m\u001b[33m\"\u001b[39m] = kwds[\u001b[33m\"\u001b[39m\u001b[33mhas_index_names\u001b[39m\u001b[33m\"\u001b[39m]\n\u001b[32m   1619\u001b[39m \u001b[38;5;28mself\u001b[39m.handles: IOHandles | \u001b[38;5;28;01mNone\u001b[39;00m = \u001b[38;5;28;01mNone\u001b[39;00m\n\u001b[32m-> \u001b[39m\u001b[32m1620\u001b[39m \u001b[38;5;28mself\u001b[39m._engine = \u001b[38;5;28;43mself\u001b[39;49m\u001b[43m.\u001b[49m\u001b[43m_make_engine\u001b[49m\u001b[43m(\u001b[49m\u001b[43mf\u001b[49m\u001b[43m,\u001b[49m\u001b[43m \u001b[49m\u001b[38;5;28;43mself\u001b[39;49m\u001b[43m.\u001b[49m\u001b[43mengine\u001b[49m\u001b[43m)\u001b[49m\n",
      "\u001b[36mFile \u001b[39m\u001b[32m~/.pyenv/versions/3.11.8/lib/python3.11/site-packages/pandas/io/parsers/readers.py:1880\u001b[39m, in \u001b[36mTextFileReader._make_engine\u001b[39m\u001b[34m(self, f, engine)\u001b[39m\n\u001b[32m   1878\u001b[39m     \u001b[38;5;28;01mif\u001b[39;00m \u001b[33m\"\u001b[39m\u001b[33mb\u001b[39m\u001b[33m\"\u001b[39m \u001b[38;5;129;01mnot\u001b[39;00m \u001b[38;5;129;01min\u001b[39;00m mode:\n\u001b[32m   1879\u001b[39m         mode += \u001b[33m\"\u001b[39m\u001b[33mb\u001b[39m\u001b[33m\"\u001b[39m\n\u001b[32m-> \u001b[39m\u001b[32m1880\u001b[39m \u001b[38;5;28mself\u001b[39m.handles = \u001b[43mget_handle\u001b[49m\u001b[43m(\u001b[49m\n\u001b[32m   1881\u001b[39m \u001b[43m    \u001b[49m\u001b[43mf\u001b[49m\u001b[43m,\u001b[49m\n\u001b[32m   1882\u001b[39m \u001b[43m    \u001b[49m\u001b[43mmode\u001b[49m\u001b[43m,\u001b[49m\n\u001b[32m   1883\u001b[39m \u001b[43m    \u001b[49m\u001b[43mencoding\u001b[49m\u001b[43m=\u001b[49m\u001b[38;5;28;43mself\u001b[39;49m\u001b[43m.\u001b[49m\u001b[43moptions\u001b[49m\u001b[43m.\u001b[49m\u001b[43mget\u001b[49m\u001b[43m(\u001b[49m\u001b[33;43m\"\u001b[39;49m\u001b[33;43mencoding\u001b[39;49m\u001b[33;43m\"\u001b[39;49m\u001b[43m,\u001b[49m\u001b[43m \u001b[49m\u001b[38;5;28;43;01mNone\u001b[39;49;00m\u001b[43m)\u001b[49m\u001b[43m,\u001b[49m\n\u001b[32m   1884\u001b[39m \u001b[43m    \u001b[49m\u001b[43mcompression\u001b[49m\u001b[43m=\u001b[49m\u001b[38;5;28;43mself\u001b[39;49m\u001b[43m.\u001b[49m\u001b[43moptions\u001b[49m\u001b[43m.\u001b[49m\u001b[43mget\u001b[49m\u001b[43m(\u001b[49m\u001b[33;43m\"\u001b[39;49m\u001b[33;43mcompression\u001b[39;49m\u001b[33;43m\"\u001b[39;49m\u001b[43m,\u001b[49m\u001b[43m \u001b[49m\u001b[38;5;28;43;01mNone\u001b[39;49;00m\u001b[43m)\u001b[49m\u001b[43m,\u001b[49m\n\u001b[32m   1885\u001b[39m \u001b[43m    \u001b[49m\u001b[43mmemory_map\u001b[49m\u001b[43m=\u001b[49m\u001b[38;5;28;43mself\u001b[39;49m\u001b[43m.\u001b[49m\u001b[43moptions\u001b[49m\u001b[43m.\u001b[49m\u001b[43mget\u001b[49m\u001b[43m(\u001b[49m\u001b[33;43m\"\u001b[39;49m\u001b[33;43mmemory_map\u001b[39;49m\u001b[33;43m\"\u001b[39;49m\u001b[43m,\u001b[49m\u001b[43m \u001b[49m\u001b[38;5;28;43;01mFalse\u001b[39;49;00m\u001b[43m)\u001b[49m\u001b[43m,\u001b[49m\n\u001b[32m   1886\u001b[39m \u001b[43m    \u001b[49m\u001b[43mis_text\u001b[49m\u001b[43m=\u001b[49m\u001b[43mis_text\u001b[49m\u001b[43m,\u001b[49m\n\u001b[32m   1887\u001b[39m \u001b[43m    \u001b[49m\u001b[43merrors\u001b[49m\u001b[43m=\u001b[49m\u001b[38;5;28;43mself\u001b[39;49m\u001b[43m.\u001b[49m\u001b[43moptions\u001b[49m\u001b[43m.\u001b[49m\u001b[43mget\u001b[49m\u001b[43m(\u001b[49m\u001b[33;43m\"\u001b[39;49m\u001b[33;43mencoding_errors\u001b[39;49m\u001b[33;43m\"\u001b[39;49m\u001b[43m,\u001b[49m\u001b[43m \u001b[49m\u001b[33;43m\"\u001b[39;49m\u001b[33;43mstrict\u001b[39;49m\u001b[33;43m\"\u001b[39;49m\u001b[43m)\u001b[49m\u001b[43m,\u001b[49m\n\u001b[32m   1888\u001b[39m \u001b[43m    \u001b[49m\u001b[43mstorage_options\u001b[49m\u001b[43m=\u001b[49m\u001b[38;5;28;43mself\u001b[39;49m\u001b[43m.\u001b[49m\u001b[43moptions\u001b[49m\u001b[43m.\u001b[49m\u001b[43mget\u001b[49m\u001b[43m(\u001b[49m\u001b[33;43m\"\u001b[39;49m\u001b[33;43mstorage_options\u001b[39;49m\u001b[33;43m\"\u001b[39;49m\u001b[43m,\u001b[49m\u001b[43m \u001b[49m\u001b[38;5;28;43;01mNone\u001b[39;49;00m\u001b[43m)\u001b[49m\u001b[43m,\u001b[49m\n\u001b[32m   1889\u001b[39m \u001b[43m\u001b[49m\u001b[43m)\u001b[49m\n\u001b[32m   1890\u001b[39m \u001b[38;5;28;01massert\u001b[39;00m \u001b[38;5;28mself\u001b[39m.handles \u001b[38;5;129;01mis\u001b[39;00m \u001b[38;5;129;01mnot\u001b[39;00m \u001b[38;5;28;01mNone\u001b[39;00m\n\u001b[32m   1891\u001b[39m f = \u001b[38;5;28mself\u001b[39m.handles.handle\n",
      "\u001b[36mFile \u001b[39m\u001b[32m~/.pyenv/versions/3.11.8/lib/python3.11/site-packages/pandas/io/common.py:873\u001b[39m, in \u001b[36mget_handle\u001b[39m\u001b[34m(path_or_buf, mode, encoding, compression, memory_map, is_text, errors, storage_options)\u001b[39m\n\u001b[32m    868\u001b[39m \u001b[38;5;28;01melif\u001b[39;00m \u001b[38;5;28misinstance\u001b[39m(handle, \u001b[38;5;28mstr\u001b[39m):\n\u001b[32m    869\u001b[39m     \u001b[38;5;66;03m# Check whether the filename is to be opened in binary mode.\u001b[39;00m\n\u001b[32m    870\u001b[39m     \u001b[38;5;66;03m# Binary mode does not support 'encoding' and 'newline'.\u001b[39;00m\n\u001b[32m    871\u001b[39m     \u001b[38;5;28;01mif\u001b[39;00m ioargs.encoding \u001b[38;5;129;01mand\u001b[39;00m \u001b[33m\"\u001b[39m\u001b[33mb\u001b[39m\u001b[33m\"\u001b[39m \u001b[38;5;129;01mnot\u001b[39;00m \u001b[38;5;129;01min\u001b[39;00m ioargs.mode:\n\u001b[32m    872\u001b[39m         \u001b[38;5;66;03m# Encoding\u001b[39;00m\n\u001b[32m--> \u001b[39m\u001b[32m873\u001b[39m         handle = \u001b[38;5;28mopen\u001b[39m(\n\u001b[32m    874\u001b[39m             handle,\n\u001b[32m    875\u001b[39m             ioargs.mode,\n\u001b[32m    876\u001b[39m             encoding=ioargs.encoding,\n\u001b[32m    877\u001b[39m             errors=errors,\n\u001b[32m    878\u001b[39m             newline=\u001b[33m\"\u001b[39m\u001b[33m\"\u001b[39m,\n\u001b[32m    879\u001b[39m         )\n\u001b[32m    880\u001b[39m     \u001b[38;5;28;01melse\u001b[39;00m:\n\u001b[32m    881\u001b[39m         \u001b[38;5;66;03m# Binary mode\u001b[39;00m\n\u001b[32m    882\u001b[39m         handle = \u001b[38;5;28mopen\u001b[39m(handle, ioargs.mode)\n",
      "\u001b[31mFileNotFoundError\u001b[39m: [Errno 2] No such file or directory: 'china_visits.v1.csv'"
     ]
    }
   ],
   "source": [
    "import pandas as pd\n",
    "\n",
    "df = pd.read_csv(\"china_visits.v1.csv\")\n",
    "\n",
    "print(df.head())"
   ]
  },
  {
   "cell_type": "code",
   "execution_count": 217,
   "id": "040f22e4-281d-4d49-a089-817b7775636c",
   "metadata": {},
   "outputs": [
    {
     "name": "stdout",
     "output_type": "stream",
     "text": [
      "Index(['country', 'year', 'ccode', 'start', 'end', 'group_visit',\n",
      "       'group_order', 'group_id', 'leader', 'leader_id', 'office', 'url',\n",
      "       'last_accessed', 'meeting', 'note'],\n",
      "      dtype='object')\n"
     ]
    }
   ],
   "source": [
    "print(df.columns)"
   ]
  },
  {
   "cell_type": "code",
   "execution_count": 218,
   "id": "d2b9869b-00fa-4dff-b7be-1ac7f917a55c",
   "metadata": {},
   "outputs": [
    {
     "data": {
      "text/plain": [
       "(405, 15)"
      ]
     },
     "execution_count": 218,
     "metadata": {},
     "output_type": "execute_result"
    }
   ],
   "source": [
    "df.shape"
   ]
  },
  {
   "cell_type": "code",
   "execution_count": 219,
   "id": "b85f78a5-0aa9-49ba-9242-c689b206f5e2",
   "metadata": {},
   "outputs": [
    {
     "data": {
      "text/plain": [
       "country           object\n",
       "year               int16\n",
       "ccode             object\n",
       "start             object\n",
       "end               object\n",
       "group_visit      float32\n",
       "group_order      float32\n",
       "group_id         float32\n",
       "leader            object\n",
       "leader_id        float32\n",
       "office            object\n",
       "url               object\n",
       "last_accessed     object\n",
       "meeting           object\n",
       "note              object\n",
       "dtype: object"
      ]
     },
     "execution_count": 219,
     "metadata": {},
     "output_type": "execute_result"
    }
   ],
   "source": [
    "df.dtypes\n"
   ]
  },
  {
   "cell_type": "code",
   "execution_count": 220,
   "id": "e4e96f30-8afd-41ed-9a22-82c0e45f3dcb",
   "metadata": {},
   "outputs": [
    {
     "data": {
      "text/plain": [
       "0              Kazakhstan\n",
       "1      Russian Federation\n",
       "2                   Japan\n",
       "3                   Italy\n",
       "4             Switzerland\n",
       "              ...        \n",
       "400             Singapore\n",
       "401               Croatia\n",
       "402    Russian Federation\n",
       "403            Uzbekistan\n",
       "404              Thailand\n",
       "Name: country, Length: 405, dtype: object"
      ]
     },
     "execution_count": 220,
     "metadata": {},
     "output_type": "execute_result"
    }
   ],
   "source": [
    "df.country"
   ]
  },
  {
   "cell_type": "code",
   "execution_count": 221,
   "id": "bdc2b4dc-c6a1-4af3-92d8-6ac9faff104d",
   "metadata": {},
   "outputs": [
    {
     "name": "stdout",
     "output_type": "stream",
     "text": [
      "country\n",
      "Russian Federation    22\n",
      "Kazakhstan            14\n",
      "Germany               13\n",
      "United Kingdom         9\n",
      "France                 9\n",
      "                      ..\n",
      "Zambia                 1\n",
      "Namibia                1\n",
      "Mozambique             1\n",
      "Seychelles             1\n",
      "Colombia               1\n",
      "Name: count, Length: 111, dtype: int64\n"
     ]
    }
   ],
   "source": [
    "trip_countries = df['country'].value_counts()\n",
    "print(trip_countries)"
   ]
  },
  {
   "cell_type": "code",
   "execution_count": 222,
   "id": "1b48227c-cc75-4a09-b1c1-5d30c2acb483",
   "metadata": {},
   "outputs": [],
   "source": [
    "#I wanted to take a look at the whole list for once to get a feeling on what the data overall looked like and what would make sense to show."
   ]
  },
  {
   "cell_type": "code",
   "execution_count": 223,
   "id": "6e0aa624-9dd8-4dd5-89ff-448e526d7e05",
   "metadata": {},
   "outputs": [
    {
     "name": "stdout",
     "output_type": "stream",
     "text": [
      "country\n",
      "Russian Federation    22\n",
      "Kazakhstan            14\n",
      "Germany               13\n",
      "United Kingdom         9\n",
      "France                 9\n",
      "                      ..\n",
      "Zambia                 1\n",
      "Namibia                1\n",
      "Mozambique             1\n",
      "Seychelles             1\n",
      "Colombia               1\n",
      "Name: count, Length: 111, dtype: int64\n"
     ]
    }
   ],
   "source": [
    "trip_countries = df['country'].value_counts()\n",
    "print(trip_countries)"
   ]
  },
  {
   "cell_type": "code",
   "execution_count": 224,
   "id": "e91757ca-b25c-4534-8779-6d47465793b0",
   "metadata": {},
   "outputs": [],
   "source": [
    "trip_countries = df['country'].value_counts().reset_index()\n",
    "trip_countries.columns = ['Country', 'Number of Visits']\n",
    "trip_countries.to_csv(\"trip_countries.csv\", index=False)"
   ]
  },
  {
   "cell_type": "code",
   "execution_count": 225,
   "id": "e06b8723-b568-4899-ac96-033286001883",
   "metadata": {},
   "outputs": [],
   "source": [
    "top10 = trip_countries.head(10)\n",
    "top10.to_csv(\"top10_countries.csv\", index=False)"
   ]
  },
  {
   "cell_type": "code",
   "execution_count": 226,
   "id": "6a32f63a-b03b-44eb-bdad-a702627a5c8b",
   "metadata": {},
   "outputs": [],
   "source": [
    "sco_members = [\n",
    "    \"China\", \"India\", \"Kazakhstan\", \"Kyrgyzstan\", \"Pakistan\",\n",
    "    \"Russian Federation\", \"Tajikistan\", \"Uzbekistan\", \"Iran\"\n",
    "]"
   ]
  },
  {
   "cell_type": "code",
   "execution_count": 227,
   "id": "ebcc8882-5ad3-49be-aaa3-ddbf4631b22b",
   "metadata": {},
   "outputs": [],
   "source": [
    "sco_visits = df[df['country'].isin(sco_members)]\n",
    "sco_counts = sco_visits['country'].value_counts().reset_index()\n",
    "sco_counts.columns = ['Country', 'Number of Visits']"
   ]
  },
  {
   "cell_type": "code",
   "execution_count": 228,
   "id": "2eb79fda-ebc1-464f-abcb-99cc94117c1c",
   "metadata": {},
   "outputs": [],
   "source": [
    "sco_counts.to_csv(\"sco_counts.csv\", index=False)"
   ]
  },
  {
   "cell_type": "code",
   "execution_count": 229,
   "id": "27bc6b9f-c658-4cdf-814e-8f04df28f27c",
   "metadata": {},
   "outputs": [],
   "source": [
    "asean_members = [\n",
    "    \"Brunei\", \"Cambodia\", \"Indonesia\", \"Laos\", \"Malaysia\",\n",
    "    \"Myanmar\", \"Philippines\", \"Singapore\", \"Thailand\", \"Vietnam\"\n",
    "]"
   ]
  },
  {
   "cell_type": "code",
   "execution_count": 230,
   "id": "40172708-d7d1-424f-9bb1-bdfa68e752c8",
   "metadata": {},
   "outputs": [],
   "source": [
    "asean_by_year = df[df['country'].isin(asean_members)].groupby(['country', 'year']).size().reset_index(name='Number of Visits')\n",
    "asean_by_year.columns = ['Country', 'Year', 'Number of Visits']\n",
    "asean_by_year.to_csv(\"asean_visits_by_year.csv\", index=False)"
   ]
  },
  {
   "cell_type": "code",
   "execution_count": 231,
   "id": "662ab067-1d1e-40db-9963-6e16b0ea33b6",
   "metadata": {},
   "outputs": [],
   "source": [
    "asean_yearly = asean_by_year.groupby('Year')['Number of Visits'].sum().reset_index()\n",
    "asean_yearly.to_csv(\"asean_total_per_year.csv\", index=False)\n"
   ]
  },
  {
   "cell_type": "code",
   "execution_count": 232,
   "id": "1f528fa5-36a8-4c87-bb5a-90cdf197d259",
   "metadata": {},
   "outputs": [],
   "source": [
    "sco_by_year = df[df['country'].isin(sco_members)].groupby(['country', 'year']).size().reset_index(name='Number of Visits')\n",
    "sco_by_year.columns = ['Country', 'Year', 'Number of Visits']\n",
    "sco_by_year.to_csv(\"sco_by_year.csv\", index=False)\n",
    "\n"
   ]
  },
  {
   "cell_type": "code",
   "execution_count": 239,
   "id": "039114f7-f35b-4f00-a732-015931007558",
   "metadata": {},
   "outputs": [
    {
     "name": "stdout",
     "output_type": "stream",
     "text": [
      "    Year     Country\n",
      "0   2001       China\n",
      "1   2002      Russia\n",
      "2   2003      Russia\n",
      "3   2004  Uzbekistan\n",
      "4   2005  Kazakhstan\n",
      "5   2006       China\n",
      "6   2007  Kyrgyzstan\n",
      "7   2008  Tajikistan\n",
      "8   2009      Russia\n",
      "9   2010  Uzbekistan\n",
      "10  2011  Kazakhstan\n",
      "11  2012       China\n",
      "12  2013  Kyrgyzstan\n",
      "13  2014  Tajikistan\n",
      "14  2015      Russia\n",
      "15  2016  Uzbekistan\n",
      "16  2017  Kazakhstan\n",
      "17  2018       China\n",
      "18  2019  Kyrgyzstan\n",
      "19  2020      Russia\n",
      "20  2021  Tajikistan\n",
      "21  2022  Uzbekistan\n",
      "22  2023       India\n",
      "23  2024  Kazakhstan\n",
      "24  2025       China\n"
     ]
    }
   ],
   "source": [
    "import pandas as pd\n",
    "\n",
    "url = \"https://en.wikipedia.org/wiki/Shanghai_Cooperation_Organisation\"\n",
    "tables = pd.read_html(url, match=\"Summits of heads of state\")\n",
    "chair_df = tables[0][[\"Date\", \"Country\"]].copy()\n",
    "chair_df[\"Year\"] = chair_df[\"Date\"].str.extract(r'(\\d{4})').astype(int)\n",
    "chair_df = chair_df[[\"Year\", \"Country\"]]\n",
    "print(chair_df)\n",
    "\n",
    "#chatgpt helped me here"
   ]
  },
  {
   "cell_type": "code",
   "execution_count": 241,
   "id": "9e5604e0-9291-4860-9cf2-657be4ad4fa1",
   "metadata": {},
   "outputs": [],
   "source": [
    "merged = chair_df.merge(visits, left_on=[\"Year\", \"Country\"], right_on=[\"Year\", \"Country\"], how=\"left\")\n",
    "merged[\"Visit_to_Chair\"] = merged[\"Number of Visits\"].notna()\n",
    "merged[[\"Year\", \"Country\", \"Number of Visits\", \"Visit_to_Chair\"]].to_csv(\"sco_chair_comparison.csv\", index=False)\n",
    "merged.to_csv(\"sco_merged.csv\", index=False)"
   ]
  },
  {
   "cell_type": "code",
   "execution_count": null,
   "id": "c1b1816f-8632-4795-adc2-e72400ab6ef1",
   "metadata": {},
   "outputs": [],
   "source": [
    "#I ended up not using the rest, because it was leaving away from my story. "
   ]
  },
  {
   "cell_type": "code",
   "execution_count": null,
   "id": "18883001-918d-4b5d-89b2-8d08f7eef453",
   "metadata": {},
   "outputs": [],
   "source": [
    "germany_trips = df[df['country'] == \"Germany\"]\n",
    "print(germany_trips)"
   ]
  },
  {
   "cell_type": "code",
   "execution_count": 186,
   "id": "8df06998-db82-42cc-b545-e05b0948d4a9",
   "metadata": {},
   "outputs": [
    {
     "data": {
      "text/html": [
       "<div>\n",
       "<style scoped>\n",
       "    .dataframe tbody tr th:only-of-type {\n",
       "        vertical-align: middle;\n",
       "    }\n",
       "\n",
       "    .dataframe tbody tr th {\n",
       "        vertical-align: top;\n",
       "    }\n",
       "\n",
       "    .dataframe thead th {\n",
       "        text-align: right;\n",
       "    }\n",
       "</style>\n",
       "<table border=\"1\" class=\"dataframe\">\n",
       "  <thead>\n",
       "    <tr style=\"text-align: right;\">\n",
       "      <th></th>\n",
       "      <th>year</th>\n",
       "      <th>leader</th>\n",
       "      <th>office</th>\n",
       "    </tr>\n",
       "  </thead>\n",
       "  <tbody>\n",
       "    <tr>\n",
       "      <th>39</th>\n",
       "      <td>2002</td>\n",
       "      <td>Jiang Zemin</td>\n",
       "      <td>President</td>\n",
       "    </tr>\n",
       "    <tr>\n",
       "      <th>77</th>\n",
       "      <td>2005</td>\n",
       "      <td>Hu Jintao</td>\n",
       "      <td>President</td>\n",
       "    </tr>\n",
       "    <tr>\n",
       "      <th>151</th>\n",
       "      <td>2014</td>\n",
       "      <td>Xi Jinping</td>\n",
       "      <td>President</td>\n",
       "    </tr>\n",
       "    <tr>\n",
       "      <th>192</th>\n",
       "      <td>2017</td>\n",
       "      <td>Xi Jinping</td>\n",
       "      <td>President</td>\n",
       "    </tr>\n",
       "    <tr>\n",
       "      <th>230</th>\n",
       "      <td>2000</td>\n",
       "      <td>Zhu Rongji</td>\n",
       "      <td>Premier</td>\n",
       "    </tr>\n",
       "    <tr>\n",
       "      <th>264</th>\n",
       "      <td>2004</td>\n",
       "      <td>Wen Jiabao</td>\n",
       "      <td>Premier</td>\n",
       "    </tr>\n",
       "    <tr>\n",
       "      <th>296</th>\n",
       "      <td>2006</td>\n",
       "      <td>Wen Jiabao</td>\n",
       "      <td>Premier</td>\n",
       "    </tr>\n",
       "    <tr>\n",
       "      <th>310</th>\n",
       "      <td>2009</td>\n",
       "      <td>Wen Jiabao</td>\n",
       "      <td>Premier</td>\n",
       "    </tr>\n",
       "    <tr>\n",
       "      <th>331</th>\n",
       "      <td>2011</td>\n",
       "      <td>Wen Jiabao</td>\n",
       "      <td>Premier</td>\n",
       "    </tr>\n",
       "    <tr>\n",
       "      <th>353</th>\n",
       "      <td>2013</td>\n",
       "      <td>Li Keqiang</td>\n",
       "      <td>Premier</td>\n",
       "    </tr>\n",
       "    <tr>\n",
       "      <th>364</th>\n",
       "      <td>2014</td>\n",
       "      <td>Li Keqiang</td>\n",
       "      <td>Premier</td>\n",
       "    </tr>\n",
       "    <tr>\n",
       "      <th>388</th>\n",
       "      <td>2017</td>\n",
       "      <td>Li Keqiang</td>\n",
       "      <td>Premier</td>\n",
       "    </tr>\n",
       "    <tr>\n",
       "      <th>396</th>\n",
       "      <td>2018</td>\n",
       "      <td>Li Keqiang</td>\n",
       "      <td>Premier</td>\n",
       "    </tr>\n",
       "  </tbody>\n",
       "</table>\n",
       "</div>"
      ],
      "text/plain": [
       "     year       leader     office\n",
       "39   2002  Jiang Zemin  President\n",
       "77   2005    Hu Jintao  President\n",
       "151  2014   Xi Jinping  President\n",
       "192  2017   Xi Jinping  President\n",
       "230  2000   Zhu Rongji    Premier\n",
       "264  2004   Wen Jiabao    Premier\n",
       "296  2006   Wen Jiabao    Premier\n",
       "310  2009   Wen Jiabao    Premier\n",
       "331  2011   Wen Jiabao    Premier\n",
       "353  2013   Li Keqiang    Premier\n",
       "364  2014   Li Keqiang    Premier\n",
       "388  2017   Li Keqiang    Premier\n",
       "396  2018   Li Keqiang    Premier"
      ]
     },
     "execution_count": 186,
     "metadata": {},
     "output_type": "execute_result"
    }
   ],
   "source": [
    "germany_trips[[\"year\", \"leader\", \"office\"]]"
   ]
  },
  {
   "cell_type": "code",
   "execution_count": 187,
   "id": "3134db1b-1d99-4bc1-81b6-f03499719edc",
   "metadata": {},
   "outputs": [
    {
     "name": "stdout",
     "output_type": "stream",
     "text": [
      "     year       leader     office\n",
      "230  2000   Zhu Rongji    Premier\n",
      "39   2002  Jiang Zemin  President\n",
      "264  2004   Wen Jiabao    Premier\n",
      "77   2005    Hu Jintao  President\n",
      "296  2006   Wen Jiabao    Premier\n",
      "310  2009   Wen Jiabao    Premier\n",
      "331  2011   Wen Jiabao    Premier\n",
      "353  2013   Li Keqiang    Premier\n",
      "151  2014   Xi Jinping  President\n",
      "364  2014   Li Keqiang    Premier\n",
      "192  2017   Xi Jinping  President\n",
      "388  2017   Li Keqiang    Premier\n",
      "396  2018   Li Keqiang    Premier\n"
     ]
    }
   ],
   "source": [
    "germany_trips_sorted = germany_trips.sort_values(by=\"year\")\n",
    "print(germany_trips_sorted[[\"year\", \"leader\", \"office\"]])\n"
   ]
  },
  {
   "cell_type": "code",
   "execution_count": 188,
   "id": "89e5ff25-5e9c-47c2-bf75-cbc4a8ab1ff5",
   "metadata": {},
   "outputs": [
    {
     "ename": "KeyError",
     "evalue": "'United States'",
     "output_type": "error",
     "traceback": [
      "\u001b[31m---------------------------------------------------------------------------\u001b[39m",
      "\u001b[31mKeyError\u001b[39m                                  Traceback (most recent call last)",
      "\u001b[36mFile \u001b[39m\u001b[32m~/.pyenv/versions/3.11.8/lib/python3.11/site-packages/pandas/core/indexes/base.py:3812\u001b[39m, in \u001b[36mIndex.get_loc\u001b[39m\u001b[34m(self, key)\u001b[39m\n\u001b[32m   3811\u001b[39m \u001b[38;5;28;01mtry\u001b[39;00m:\n\u001b[32m-> \u001b[39m\u001b[32m3812\u001b[39m     \u001b[38;5;28;01mreturn\u001b[39;00m \u001b[38;5;28;43mself\u001b[39;49m\u001b[43m.\u001b[49m\u001b[43m_engine\u001b[49m\u001b[43m.\u001b[49m\u001b[43mget_loc\u001b[49m\u001b[43m(\u001b[49m\u001b[43mcasted_key\u001b[49m\u001b[43m)\u001b[49m\n\u001b[32m   3813\u001b[39m \u001b[38;5;28;01mexcept\u001b[39;00m \u001b[38;5;167;01mKeyError\u001b[39;00m \u001b[38;5;28;01mas\u001b[39;00m err:\n",
      "\u001b[36mFile \u001b[39m\u001b[32mpandas/_libs/index.pyx:167\u001b[39m, in \u001b[36mpandas._libs.index.IndexEngine.get_loc\u001b[39m\u001b[34m()\u001b[39m\n",
      "\u001b[36mFile \u001b[39m\u001b[32mpandas/_libs/index.pyx:196\u001b[39m, in \u001b[36mpandas._libs.index.IndexEngine.get_loc\u001b[39m\u001b[34m()\u001b[39m\n",
      "\u001b[36mFile \u001b[39m\u001b[32mpandas/_libs/hashtable_class_helper.pxi:7088\u001b[39m, in \u001b[36mpandas._libs.hashtable.PyObjectHashTable.get_item\u001b[39m\u001b[34m()\u001b[39m\n",
      "\u001b[36mFile \u001b[39m\u001b[32mpandas/_libs/hashtable_class_helper.pxi:7096\u001b[39m, in \u001b[36mpandas._libs.hashtable.PyObjectHashTable.get_item\u001b[39m\u001b[34m()\u001b[39m\n",
      "\u001b[31mKeyError\u001b[39m: 'United States'",
      "\nThe above exception was the direct cause of the following exception:\n",
      "\u001b[31mKeyError\u001b[39m                                  Traceback (most recent call last)",
      "\u001b[36mCell\u001b[39m\u001b[36m \u001b[39m\u001b[32mIn[188]\u001b[39m\u001b[32m, line 1\u001b[39m\n\u001b[32m----> \u001b[39m\u001b[32m1\u001b[39m \u001b[38;5;28mprint\u001b[39m(\u001b[43mtrip_countries\u001b[49m\u001b[43m[\u001b[49m\u001b[33;43m\"\u001b[39;49m\u001b[33;43mUnited States\u001b[39;49m\u001b[33;43m\"\u001b[39;49m\u001b[43m]\u001b[49m)\n",
      "\u001b[36mFile \u001b[39m\u001b[32m~/.pyenv/versions/3.11.8/lib/python3.11/site-packages/pandas/core/frame.py:4107\u001b[39m, in \u001b[36mDataFrame.__getitem__\u001b[39m\u001b[34m(self, key)\u001b[39m\n\u001b[32m   4105\u001b[39m \u001b[38;5;28;01mif\u001b[39;00m \u001b[38;5;28mself\u001b[39m.columns.nlevels > \u001b[32m1\u001b[39m:\n\u001b[32m   4106\u001b[39m     \u001b[38;5;28;01mreturn\u001b[39;00m \u001b[38;5;28mself\u001b[39m._getitem_multilevel(key)\n\u001b[32m-> \u001b[39m\u001b[32m4107\u001b[39m indexer = \u001b[38;5;28;43mself\u001b[39;49m\u001b[43m.\u001b[49m\u001b[43mcolumns\u001b[49m\u001b[43m.\u001b[49m\u001b[43mget_loc\u001b[49m\u001b[43m(\u001b[49m\u001b[43mkey\u001b[49m\u001b[43m)\u001b[49m\n\u001b[32m   4108\u001b[39m \u001b[38;5;28;01mif\u001b[39;00m is_integer(indexer):\n\u001b[32m   4109\u001b[39m     indexer = [indexer]\n",
      "\u001b[36mFile \u001b[39m\u001b[32m~/.pyenv/versions/3.11.8/lib/python3.11/site-packages/pandas/core/indexes/base.py:3819\u001b[39m, in \u001b[36mIndex.get_loc\u001b[39m\u001b[34m(self, key)\u001b[39m\n\u001b[32m   3814\u001b[39m     \u001b[38;5;28;01mif\u001b[39;00m \u001b[38;5;28misinstance\u001b[39m(casted_key, \u001b[38;5;28mslice\u001b[39m) \u001b[38;5;129;01mor\u001b[39;00m (\n\u001b[32m   3815\u001b[39m         \u001b[38;5;28misinstance\u001b[39m(casted_key, abc.Iterable)\n\u001b[32m   3816\u001b[39m         \u001b[38;5;129;01mand\u001b[39;00m \u001b[38;5;28many\u001b[39m(\u001b[38;5;28misinstance\u001b[39m(x, \u001b[38;5;28mslice\u001b[39m) \u001b[38;5;28;01mfor\u001b[39;00m x \u001b[38;5;129;01min\u001b[39;00m casted_key)\n\u001b[32m   3817\u001b[39m     ):\n\u001b[32m   3818\u001b[39m         \u001b[38;5;28;01mraise\u001b[39;00m InvalidIndexError(key)\n\u001b[32m-> \u001b[39m\u001b[32m3819\u001b[39m     \u001b[38;5;28;01mraise\u001b[39;00m \u001b[38;5;167;01mKeyError\u001b[39;00m(key) \u001b[38;5;28;01mfrom\u001b[39;00m\u001b[38;5;250m \u001b[39m\u001b[34;01merr\u001b[39;00m\n\u001b[32m   3820\u001b[39m \u001b[38;5;28;01mexcept\u001b[39;00m \u001b[38;5;167;01mTypeError\u001b[39;00m:\n\u001b[32m   3821\u001b[39m     \u001b[38;5;66;03m# If we have a listlike key, _check_indexing_error will raise\u001b[39;00m\n\u001b[32m   3822\u001b[39m     \u001b[38;5;66;03m#  InvalidIndexError. Otherwise we fall through and re-raise\u001b[39;00m\n\u001b[32m   3823\u001b[39m     \u001b[38;5;66;03m#  the TypeError.\u001b[39;00m\n\u001b[32m   3824\u001b[39m     \u001b[38;5;28mself\u001b[39m._check_indexing_error(key)\n",
      "\u001b[31mKeyError\u001b[39m: 'United States'"
     ]
    }
   ],
   "source": [
    "print(trip_countries[\"United States\"])"
   ]
  },
  {
   "cell_type": "code",
   "execution_count": null,
   "id": "a3062e2d-33b9-479a-8bc4-2d04780e85f2",
   "metadata": {},
   "outputs": [],
   "source": []
  },
  {
   "cell_type": "code",
   "execution_count": null,
   "id": "36096af6-bb46-48ee-98f1-a7532d9d47ca",
   "metadata": {},
   "outputs": [],
   "source": []
  },
  {
   "cell_type": "code",
   "execution_count": null,
   "id": "0b9033fb-7a0f-4d1e-a158-177b8227b27f",
   "metadata": {},
   "outputs": [],
   "source": []
  },
  {
   "cell_type": "code",
   "execution_count": null,
   "id": "73503a57-249a-4474-a669-c62263acd15e",
   "metadata": {},
   "outputs": [],
   "source": []
  },
  {
   "cell_type": "code",
   "execution_count": null,
   "id": "72a9aed1-77e0-48a1-bdb9-cf45fb8d9d63",
   "metadata": {},
   "outputs": [],
   "source": []
  },
  {
   "cell_type": "code",
   "execution_count": null,
   "id": "73efcd02-96ab-42ef-8911-ceaa3590f49d",
   "metadata": {},
   "outputs": [],
   "source": []
  },
  {
   "cell_type": "code",
   "execution_count": null,
   "id": "4128a5b5-a1e2-462e-9728-693d12065f5b",
   "metadata": {},
   "outputs": [],
   "source": []
  },
  {
   "cell_type": "code",
   "execution_count": null,
   "id": "a3f51ae4-6839-4e0b-b4e6-5e94004174d7",
   "metadata": {},
   "outputs": [],
   "source": []
  }
 ],
 "metadata": {
  "kernelspec": {
   "display_name": "Python 3 (ipykernel)",
   "language": "python",
   "name": "python3"
  },
  "language_info": {
   "codemirror_mode": {
    "name": "ipython",
    "version": 3
   },
   "file_extension": ".py",
   "mimetype": "text/x-python",
   "name": "python",
   "nbconvert_exporter": "python",
   "pygments_lexer": "ipython3",
   "version": "3.11.8"
  }
 },
 "nbformat": 4,
 "nbformat_minor": 5
}
