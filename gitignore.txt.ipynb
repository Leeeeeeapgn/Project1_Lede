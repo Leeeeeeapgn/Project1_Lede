{
 "cells": [
  {
   "cell_type": "code",
   "execution_count": 1,
   "id": "386fb315-d756-4037-8be9-4e2e9b5d12af",
   "metadata": {},
   "outputs": [
    {
     "name": "stdout",
     "output_type": "stream",
     "text": [
      "mv: rename gitignore.txt to .gitignore: No such file or directory\n"
     ]
    }
   ],
   "source": [
    "!mv gitignore.txt .gitignore\n"
   ]
  }
 ],
 "metadata": {
  "kernelspec": {
   "display_name": "Python 3 (ipykernel)",
   "language": "python",
   "name": "python3"
  },
  "language_info": {
   "codemirror_mode": {
    "name": "ipython",
    "version": 3
   },
   "file_extension": ".py",
   "mimetype": "text/x-python",
   "name": "python",
   "nbconvert_exporter": "python",
   "pygments_lexer": "ipython3",
   "version": "3.11.8"
  }
 },
 "nbformat": 4,
 "nbformat_minor": 5
}
